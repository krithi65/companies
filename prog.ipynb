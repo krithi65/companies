{
  "nbformat": 4,
  "nbformat_minor": 0,
  "metadata": {
    "colab": {
      "name": "prog.ipynb",
      "provenance": [],
      "authorship_tag": "ABX9TyNBszhuKaHhCI2W/kftNKFj",
      "include_colab_link": true
    },
    "kernelspec": {
      "name": "python3",
      "display_name": "Python 3"
    },
    "language_info": {
      "name": "python"
    }
  },
  "cells": [
    {
      "cell_type": "markdown",
      "metadata": {
        "id": "view-in-github",
        "colab_type": "text"
      },
      "source": [
        "<a href=\"https://colab.research.google.com/github/krithi65/companies/blob/main/prog.ipynb\" target=\"_parent\"><img src=\"https://colab.research.google.com/assets/colab-badge.svg\" alt=\"Open In Colab\"/></a>"
      ]
    },
    {
      "cell_type": "markdown",
      "source": [
        "1.A ‘majsetic’ array is an array whose sum of first three number is equal to last three number."
      ],
      "metadata": {
        "id": "wIW6QcJ_cox0"
      }
    },
    {
      "cell_type": "code",
      "source": [
        "\n",
        "n=int(input())\n",
        "b=list(map(int,input().split()))\n",
        "c1=b[:3]\n",
        "c2=b[-3:]\n",
        "if(sum(c1)==sum(c2)):\n",
        "   print(1) \n",
        "else:\n",
        "    print(0)\n"
      ],
      "metadata": {
        "id": "0brE0G4vcySX"
      },
      "execution_count": null,
      "outputs": []
    },
    {
      "cell_type": "markdown",
      "source": [
        "2.Check if array B is a subset of array A."
      ],
      "metadata": {
        "id": "q8KQotJgc06k"
      }
    },
    {
      "cell_type": "code",
      "source": [
        "n,m=map(int,input().split())\n",
        "arr1=list(map(int,input().split()))\n",
        "arr2=list(map(int,input().split()))\n",
        "flag = True\n",
        "for i in arr2:\n",
        "    if i not in arr1:\n",
        "        flag = False\n",
        "        break\n",
        "if (flag):\n",
        "    print(\"yes\")\n",
        "else:\n",
        "    print(\"no\")"
      ],
      "metadata": {
        "id": "szByKVAIc_Yf"
      },
      "execution_count": null,
      "outputs": []
    },
    {
      "cell_type": "markdown",
      "source": [
        "3.Print length of longest palindrome in string"
      ],
      "metadata": {
        "id": "UJiDo8bFdBcs"
      }
    },
    {
      "cell_type": "code",
      "source": [
        "\n",
        " \n",
        "str = str[:-1]\n",
        "print(len(str))\n",
        "\n",
        "\n"
      ],
      "metadata": {
        "id": "ebmb_TiGdImJ"
      },
      "execution_count": null,
      "outputs": []
    },
    {
      "cell_type": "markdown",
      "source": [
        "4.print all permutations of the string in a separate line."
      ],
      "metadata": {
        "id": "TGT67oNJdLNu"
      }
    },
    {
      "cell_type": "code",
      "source": [
        "import itertools\n",
        "a_string = input()\n",
        "string_permutations = itertools.permutations(a_string)\n",
        "string_permutations = list(string_permutations)\n",
        "string_permutations = [''.join(permutation)for permutation in string_permutations]\n",
        "for l in string_permutations:\n",
        "    print(l)"
      ],
      "metadata": {
        "id": "6j-2zS6fdQUA"
      },
      "execution_count": null,
      "outputs": []
    },
    {
      "cell_type": "markdown",
      "source": [
        "5.Print 1 if they are anagram else print 0."
      ],
      "metadata": {
        "id": "c7--qImqdj46"
      }
    },
    {
      "cell_type": "code",
      "source": [
        "s1=input()\n",
        "s2=input()\n",
        "if sorted(s1)==sorted(s2):\n",
        "    print(1)\n",
        "else:\n",
        "    print(0)"
      ],
      "metadata": {
        "id": "vIyg4BZmdpQ4"
      },
      "execution_count": null,
      "outputs": []
    },
    {
      "cell_type": "markdown",
      "source": [
        "6.Find if String2 is substring of String1. If it is print the index of the first occurrence. else print -1."
      ],
      "metadata": {
        "id": "ZSRg1IN9dsQ7"
      }
    },
    {
      "cell_type": "code",
      "source": [
        "str1=input()\n",
        "str2=input()\n",
        "if str2 in str1:\n",
        "    index=str1.find(str2)\n",
        "    print(index)\n",
        "else:\n",
        "    print(-1)"
      ],
      "metadata": {
        "id": "oO1h7KQQd70E"
      },
      "execution_count": null,
      "outputs": []
    },
    {
      "cell_type": "markdown",
      "source": [
        "7.Given coins with values 1, 3, and 5. And the sum S is 11.\n",
        "Output: 3, 2 coins of 3 and 1 coin of 5"
      ],
      "metadata": {
        "id": "8arbVU9vd-c4"
      }
    },
    {
      "cell_type": "code",
      "source": [
        "import sys\n",
        " \n",
        "# m is size of coins array (number of different coins)\n",
        "def minCoins(coins, m, V):\n",
        " \n",
        "    # base case\n",
        "    if (V == 0):\n",
        "        return 0\n",
        " \n",
        "    # Initialize result\n",
        "    res = sys.maxsize\n",
        "     \n",
        "    # Try every coin that has smaller value than V\n",
        "    for i in range(0, m):\n",
        "        if (coins[i] <= V):\n",
        "            sub_res = minCoins(coins, m, V-coins[i])\n",
        " \n",
        "            # Check for INT_MAX to avoid overflow and see if\n",
        "            # result can minimized\n",
        "            if (sub_res != sys.maxsize and sub_res + 1 < res):\n",
        "                res = sub_res + 1\n",
        " \n",
        "    return res\n",
        "a=list(map(int,input( ).split( )))    \n",
        "coins = list(map(int,input( ).split( )))\n",
        "m = a[0]\n",
        "V = a[1]\n",
        "print(minCoins(coins,m,V))"
      ],
      "metadata": {
        "id": "FsKtj-7ZeK2Z"
      },
      "execution_count": null,
      "outputs": []
    },
    {
      "cell_type": "markdown",
      "source": [
        ""
      ],
      "metadata": {
        "id": "OKYeaXcEeNUb"
      }
    }
  ]
}