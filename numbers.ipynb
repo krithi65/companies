{
  "nbformat": 4,
  "nbformat_minor": 0,
  "metadata": {
    "colab": {
      "name": "numbers.ipynb",
      "provenance": [],
      "authorship_tag": "ABX9TyMAwvZSBIfkEien0pdBgyRa",
      "include_colab_link": true
    },
    "kernelspec": {
      "name": "python3",
      "display_name": "Python 3"
    },
    "language_info": {
      "name": "python"
    }
  },
  "cells": [
    {
      "cell_type": "markdown",
      "metadata": {
        "id": "view-in-github",
        "colab_type": "text"
      },
      "source": [
        "<a href=\"https://colab.research.google.com/github/krithi65/companies/blob/main/numbers.ipynb\" target=\"_parent\"><img src=\"https://colab.research.google.com/assets/colab-badge.svg\" alt=\"Open In Colab\"/></a>"
      ]
    },
    {
      "cell_type": "markdown",
      "source": [
        "1. print the digit with maximum frequency."
      ],
      "metadata": {
        "id": "A-58Siitep_z"
      }
    },
    {
      "cell_type": "code",
      "source": [
        "import statistics\n",
        "b=int(input( ))\n",
        "a=list(map(int,input( ).split( )))\n",
        "res=statistics.mode(a)\n",
        "print(res)"
      ],
      "metadata": {
        "id": "Zk1QwRzPexgC"
      },
      "execution_count": null,
      "outputs": []
    },
    {
      "cell_type": "markdown",
      "source": [
        "2.If ticket number is divisible by date of month. You are eligible for a discount."
      ],
      "metadata": {
        "id": "Gpd4vlBZezie"
      }
    },
    {
      "cell_type": "code",
      "source": [
        "\n",
        "n=int(input())\n",
        "arr=list(map(int,input().split()))\n",
        "month=int(input())\n",
        "a=[]\n",
        "for i in range(len(arr)):\n",
        "    if arr[i]%month==0:\n",
        "        a.append(1)\n",
        "    else:\n",
        "        a.append(0)\n",
        "print(*a)        \n",
        "        "
      ],
      "metadata": {
        "id": "bnWjGu_qe5ER"
      },
      "execution_count": null,
      "outputs": []
    },
    {
      "cell_type": "markdown",
      "source": [
        "3.You have to tell whether a number is great or not. A great number is a number whose sum of digits let (m) and product of digits let(j) when summed together gives the number back"
      ],
      "metadata": {
        "id": "X3im7-0Re7Wb"
      }
    },
    {
      "cell_type": "code",
      "source": [
        "num=input()\n",
        "x=[int(a) for a in str(num)]\n",
        "y=int(num)\n",
        "m=x[0]+x[1]\n",
        "j=x[0]*x[1]\n",
        "k=m+j\n",
        "if(k==y):\n",
        "   print(\"Great\")\n",
        "else:\n",
        "   print(\"no\")"
      ],
      "metadata": {
        "id": "XL9U-DbJfBNb"
      },
      "execution_count": null,
      "outputs": []
    },
    {
      "cell_type": "markdown",
      "source": [
        "4.A saturated number is a number which is made by exactly two digits."
      ],
      "metadata": {
        "id": "yyG8utJVfDQc"
      }
    },
    {
      "cell_type": "code",
      "source": [
        "count=0\n",
        "digit=input()\n",
        "for i in range(len(digit)):\n",
        "    if digit[i]==digit:\n",
        "       count+=1\n",
        "print(\"Saturated\")\n",
        "        \n"
      ],
      "metadata": {
        "id": "YaOlESPZfMlX"
      },
      "execution_count": null,
      "outputs": []
    },
    {
      "cell_type": "markdown",
      "source": [
        "5.Print the minimum element"
      ],
      "metadata": {
        "id": "3SVGxh38fXOs"
      }
    },
    {
      "cell_type": "code",
      "source": [
        "n=int(input())\n",
        "arr=list(map(int,input().split()))\n",
        "print(min(arr))"
      ],
      "metadata": {
        "id": "Z9K1Wlvefdg7"
      },
      "execution_count": null,
      "outputs": []
    },
    {
      "cell_type": "markdown",
      "source": [
        "6.A beautiful array is an array whose sum of all numbers is divisible by 2, 3 and 5"
      ],
      "metadata": {
        "id": "DCZ9PywCffnb"
      }
    },
    {
      "cell_type": "code",
      "source": [
        "n=int(input())\n",
        "a=list(map(int,input().split()))\n",
        "sum=0\n",
        "for i in a:\n",
        "    sum=sum+i\n",
        "if(sum%2==0 and sum%3==0 and sum%5==0):\n",
        "    print(1)\n",
        "else:\n",
        "    print(0)"
      ],
      "metadata": {
        "id": "uVwgzk6cfm2i"
      },
      "execution_count": null,
      "outputs": []
    },
    {
      "cell_type": "markdown",
      "source": [
        "7.An ‘ajs’ number is a number whose sum of first two digits is present in given number ‘n’"
      ],
      "metadata": {
        "id": "LudKXgFvfpVV"
      }
    },
    {
      "cell_type": "code",
      "source": [
        "n=input()\n",
        "a=list(str(n)[:2])\n",
        "b1=int(a[0])\n",
        "b2=int(a[1])\n",
        "sum=b1+b2\n",
        "if str(sum) in str(n):\n",
        "   print(1)\n",
        "else:\n",
        "    print(0)"
      ],
      "metadata": {
        "id": "Y-zlU3SgfxMh"
      },
      "execution_count": null,
      "outputs": []
    }
  ]
}