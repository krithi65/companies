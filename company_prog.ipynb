{
  "nbformat": 4,
  "nbformat_minor": 0,
  "metadata": {
    "colab": {
      "name": "company prog.ipynb",
      "provenance": [],
      "authorship_tag": "ABX9TyPSoZpyJ8tcFztrIuTRktF3",
      "include_colab_link": true
    },
    "kernelspec": {
      "name": "python3",
      "display_name": "Python 3"
    },
    "language_info": {
      "name": "python"
    }
  },
  "cells": [
    {
      "cell_type": "markdown",
      "metadata": {
        "id": "view-in-github",
        "colab_type": "text"
      },
      "source": [
        "<a href=\"https://colab.research.google.com/github/krithi65/companies/blob/main/company_prog.ipynb\" target=\"_parent\"><img src=\"https://colab.research.google.com/assets/colab-badge.svg\" alt=\"Open In Colab\"/></a>"
      ]
    },
    {
      "cell_type": "markdown",
      "source": [
        "1.Given 2 arrays print 'yes' if they are mirror images of each other,otherwise 'no'.\n",
        "Input Size : N <= 1000000\n",
        "Sample Testcase :\n",
        "INPUT\n",
        "4\n",
        "1 2 3 4\n",
        "4 3 2 1\n",
        "OUTPUT\n",
        "yes"
      ],
      "metadata": {
        "id": "B3ETk5ZjY5k2"
      }
    },
    {
      "cell_type": "code",
      "source": [
        "a=int(input())\n",
        "arr1=list(map(int,input().split( )))\n",
        "arr2=list(map(int,input().split( )))\n",
        "if list(arr1)==list(reversed(arr2)):\n",
        "    print(\"yes\")\n",
        "else:\n",
        "    print(\"no\")"
      ],
      "metadata": {
        "id": "2_jGIBrzZB6d"
      },
      "execution_count": null,
      "outputs": []
    },
    {
      "cell_type": "markdown",
      "source": [
        "2.Write a program to reverse the list and print the list.\n",
        "Input Size : 1 <= N <= 10000\n",
        "Sample Testcases :\n",
        "INPUT\n",
        "7\n",
        "1 2 3 4 5 6 7\n",
        "OUTPUT\n",
        "7->6->5->4->3->2->1"
      ],
      "metadata": {
        "id": "AoG-m8yoZE_K"
      }
    },
    {
      "cell_type": "code",
      "source": [
        "a=int(input())\n",
        "arr1=list(map(int,input().split( )))\n",
        "arr2=list(reversed(arr1))\n",
        "print(*arr2,sep='->')"
      ],
      "metadata": {
        "id": "bZphKCAzZKT3"
      },
      "execution_count": null,
      "outputs": []
    },
    {
      "cell_type": "markdown",
      "source": [
        "3.How many possible ways are to shuffle given number of playing cards?.\n",
        "Input Size : |N| <= 1000000\n",
        "Sample Testcase :\n",
        "INPUT\n",
        "7\n",
        "OUTPUT\n",
        "5040"
      ],
      "metadata": {
        "id": "Y1IxfCIQZM8h"
      }
    },
    {
      "cell_type": "code",
      "source": [
        "n=int(input())\n",
        "running_total = n    # Remembers n as the starting value of\n",
        "while n > 1:      # Repeats the next bit until n is no longer\n",
        "    n = n - 1            # Subtracts 1 from n\n",
        "    running_total = running_total * n    # by the new n\n",
        "print(running_total)\n",
        "\n"
      ],
      "metadata": {
        "id": "sZn3OXvGZVYo"
      },
      "execution_count": null,
      "outputs": []
    },
    {
      "cell_type": "markdown",
      "source": [
        "4.Given base(B) and height(H) of a triangle find its area."
      ],
      "metadata": {
        "id": "m7TY87v4ZXi8"
      }
    },
    {
      "cell_type": "code",
      "source": [
        "b,h = map(int,input( ).split( ))\n",
        "area = 0.5*b*h\n",
        "print(area)"
      ],
      "metadata": {
        "id": "tm60Po-lZepx"
      },
      "execution_count": null,
      "outputs": []
    },
    {
      "cell_type": "markdown",
      "source": [
        "5.print the vowels first and then consonants in the same order as they have occurred in the string."
      ],
      "metadata": {
        "id": "bAtPwMpzZg7y"
      }
    },
    {
      "cell_type": "code",
      "source": [
        "s = str(input())\n",
        "vowel = ['a','e','i','o','u','A','E','I','O','U']\n",
        "v = []\n",
        "c = []\n",
        "l=[]\n",
        "for i in s:\n",
        "    if i in vowel:\n",
        "    \tv.append(i)\n",
        "    else:\n",
        "    \tc.append(i)\n",
        "for i in v:\n",
        "    l.append(i)\n",
        "for i in c:\n",
        "    l.append(i)\n",
        "print(\"\".join(l))"
      ],
      "metadata": {
        "id": "dCHSGCL6Zudl"
      },
      "execution_count": null,
      "outputs": []
    },
    {
      "cell_type": "markdown",
      "source": [
        "6.Print the GCD of A! and B!."
      ],
      "metadata": {
        "id": "m-g16pk5Zxjv"
      }
    },
    {
      "cell_type": "code",
      "source": [
        "import math \n",
        "  \n",
        "def gcdOfFactorial(m, n) : \n",
        "    return math.factorial(min(m, n)) \n",
        "  \n",
        "# Driver code \n",
        "m,n = map(int,input().split())\n",
        "print(gcdOfFactorial(m, n))"
      ],
      "metadata": {
        "id": "lIKo8NHRZ4Nb"
      },
      "execution_count": null,
      "outputs": []
    },
    {
      "cell_type": "markdown",
      "source": [
        "7.display 'yes' if given two strings are complementary otherwise display 'no'"
      ],
      "metadata": {
        "id": "QpXO9UcsZ62-"
      }
    },
    {
      "cell_type": "code",
      "source": [
        "s1=input()\n",
        "s2=input()\n",
        "g=s1+s2\n",
        "if(len(g)==26):\n",
        "    print(\"yes\")\n",
        "else:\n",
        "    print(\"no\")"
      ],
      "metadata": {
        "id": "Vv-n5GZjaBs2"
      },
      "execution_count": null,
      "outputs": []
    },
    {
      "cell_type": "markdown",
      "source": [
        "8. print the first N Catalan numbers."
      ],
      "metadata": {
        "id": "G47b0rsRaEm-"
      }
    },
    {
      "cell_type": "code",
      "source": [
        "def catalan(n):  \n",
        "    if n <=1 : \n",
        "        return 1 \n",
        "    res = 0 \n",
        "    for i in range(n): \n",
        "        res += catalan(i) * catalan(n-i-1) \n",
        "    return res\n",
        "n = int(input())\n",
        "a = []\n",
        "for i in range(n+1):\n",
        "    a.append(catalan(i))\n",
        "print(*a)"
      ],
      "metadata": {
        "id": "ced-HkOLaLwp"
      },
      "execution_count": null,
      "outputs": []
    },
    {
      "cell_type": "markdown",
      "source": [
        "9.Lucky number: N*I is also present in the array then the number is lucky where N is the number of elements in the array and I is the position of the element.(1 based indexing)"
      ],
      "metadata": {
        "id": "lfGme_3eaOop"
      }
    },
    {
      "cell_type": "code",
      "source": [
        "\n",
        "n = int(input())\n",
        "l = input().split(\" \")\n",
        "l = [int(x) for x in l]\n",
        "count = 0\n",
        "for i in range(n):\n",
        "    if (n*(i+1)) in l:\n",
        "        count += 1\n",
        "print(count)"
      ],
      "metadata": {
        "id": "Z5J_Ae-CaWyE"
      },
      "execution_count": null,
      "outputs": []
    },
    {
      "cell_type": "markdown",
      "source": [
        "11.a sentence interchange the between the word 'and'."
      ],
      "metadata": {
        "id": "n-MsLc0-aZ7r"
      }
    },
    {
      "cell_type": "code",
      "source": [
        "l = input().split(\" \")\n",
        "a=[]\n",
        "for i in range(len(l)):\n",
        "    if l[i] == \"and\":\n",
        "        (l[i+1], l[i-1]) = (l[i-1], l[i+1])\n",
        "for i in l:\n",
        "    a.append(i)\n",
        "print(*a)"
      ],
      "metadata": {
        "id": "tJ9GIFr4aOMJ"
      },
      "execution_count": null,
      "outputs": []
    },
    {
      "cell_type": "markdown",
      "source": [
        "12.check whether it is in camelcase.print 'yes' if it is in camelcase otherwise print 'no'."
      ],
      "metadata": {
        "id": "KrHA6jHtaxZQ"
      }
    },
    {
      "cell_type": "code",
      "source": [
        "s=input()\n",
        "if (s!=s.upper() and s!=s.lower()):\n",
        "   print(\"yes\")\n",
        "else:\n",
        "    print(\"no\")"
      ],
      "metadata": {
        "id": "wrwzeqeNazco"
      },
      "execution_count": null,
      "outputs": []
    },
    {
      "cell_type": "markdown",
      "source": [
        "13.the values of a,b and x in the equation ax + b = y. Find the value of y."
      ],
      "metadata": {
        "id": "xtmU6VN5a1zQ"
      }
    },
    {
      "cell_type": "code",
      "source": [
        "a,b,x=map(int,input().split())\n",
        "p=a*x\n",
        "y=p+b\n",
        "print(y)"
      ],
      "metadata": {
        "id": "sycLn1S3a7KO"
      },
      "execution_count": null,
      "outputs": []
    },
    {
      "cell_type": "markdown",
      "source": [
        "14. whether the given string is a palindrome using stack or linked list and print 'yes' otherwise print 'no'."
      ],
      "metadata": {
        "id": "a1wqUGBRa9wz"
      }
    },
    {
      "cell_type": "code",
      "source": [
        "\n",
        "class Stack:\n",
        "    def __init__(self):\n",
        "        self.items = []\n",
        " \n",
        "    def is_empty(self):\n",
        "        return self.items == []\n",
        " \n",
        "    def push(self, data):\n",
        "        self.items.append(data)\n",
        " \n",
        "    def pop(self):\n",
        "        return self.items.pop()\n",
        " \n",
        " \n",
        "s = Stack()\n",
        "text = input( )\n",
        " \n",
        "for character in text:\n",
        "    s.push(character)\n",
        " \n",
        "reversed_text = ''\n",
        "while not s.is_empty():\n",
        "    reversed_text = reversed_text + s.pop()\n",
        " \n",
        "if text == reversed_text:\n",
        "    print('yes')\n",
        "else:\n",
        "    print('no')"
      ],
      "metadata": {
        "id": "3Sc5noANbE_2"
      },
      "execution_count": null,
      "outputs": []
    },
    {
      "cell_type": "markdown",
      "source": [
        "15.consisting of 2 words reverse the order of two words ."
      ],
      "metadata": {
        "id": "ezanql22bH2-"
      }
    },
    {
      "cell_type": "code",
      "source": [
        "x = input()\n",
        "#take input from user\n",
        "a=x.split( )\n",
        "#use split method to split at whitespaces\n",
        "a.reverse()\n",
        "#reverse all the elements of the string \n",
        "\n",
        "print(' '.join(a))"
      ],
      "metadata": {
        "id": "RITDt_58baSi"
      },
      "execution_count": null,
      "outputs": []
    },
    {
      "cell_type": "markdown",
      "source": [
        "16.Two strings are said to have same base alphabets if they use the same characters to form the word"
      ],
      "metadata": {
        "id": "yNqURe9fbcUH"
      }
    },
    {
      "cell_type": "code",
      "source": [
        "\n",
        "(s1, s2) = map(str, input().split(\" \"))\n",
        "a = []\n",
        "for i in range(len(s1)):\n",
        "    a.append(s1[i])\n",
        "for i in range(len(s2)):\n",
        "    if s2[i] not in a:\n",
        "        flag = False\n",
        "        break\n",
        "    else:\n",
        "        flag = True\n",
        "if flag:\n",
        "    print(\"true\")\n",
        "else:\n",
        "    print(\"false\")"
      ],
      "metadata": {
        "id": "NMUKYRTjbtBe"
      },
      "execution_count": null,
      "outputs": []
    },
    {
      "cell_type": "markdown",
      "source": [
        "17.whether the given 4 points form a square or not."
      ],
      "metadata": {
        "id": "-oqei-lHbvNU"
      }
    },
    {
      "cell_type": "code",
      "source": [
        "def square(x,y):\n",
        "    a=(x[0]-y[0])**2+(x[1]-y[1])**2\n",
        "    return\n",
        "A=list(map(int,input( ).split( )))\n",
        "B=list(map(int,input( ).split( )))\n",
        "C=list(map(int,input( ).split( )))\n",
        "D=list(map(int,input( ).split( )))\n",
        "j=square(A,C)\n",
        "k=square(B,D)\n",
        "if(A==B==C==D)and (k==j):\n",
        "    print(\"yes\")\n",
        "else:\n",
        "    print(\"no\")\n",
        "    "
      ],
      "metadata": {
        "id": "IyQFSWWUb-kM"
      },
      "execution_count": null,
      "outputs": []
    }
  ]
}